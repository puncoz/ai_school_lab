{
 "cells": [
  {
   "cell_type": "code",
   "execution_count": null,
   "metadata": {},
   "outputs": [],
   "source": [
    "# This notebook has dependencies on 'Numpy' and 'OpenCV'\n",
    "# Open cmd terminal and run the following command to get them installed (passwd: prime)\n",
    "# \"sudo pip install numpy opencv-python\""
   ]
  },
  {
   "cell_type": "code",
   "execution_count": null,
   "metadata": {},
   "outputs": [],
   "source": [
    "import numpy as np\n",
    "import cv2"
   ]
  },
  {
   "cell_type": "code",
   "execution_count": 1,
   "metadata": {},
   "outputs": [],
   "source": [
    "# Opencv is a library that supports computer vision algorithms.\n",
    "# Image segmentation is a problem that has a natural correspondence with Clustering\n",
    "# We will look at the use of KMeans in segmenting images"
   ]
  },
  {
   "cell_type": "code",
   "execution_count": null,
   "metadata": {},
   "outputs": [],
   "source": [
    "# You will have to upload the 3 images to google colab. We have uploaded files before. Check them for reference\n",
    "# Step 1:\n",
    "# Use the function cv2.imread() to read the original image. (Pick any of your favourite among the 3)"
   ]
  },
  {
   "cell_type": "markdown",
   "metadata": {},
   "source": [
    "For Reference:\n",
    "[Link](https://docs.opencv.org/3.0-beta/doc/py_tutorials/py_gui/py_image_display/py_image_display.html#read-an-image)"
   ]
  },
  {
   "cell_type": "code",
   "execution_count": null,
   "metadata": {},
   "outputs": [],
   "source": []
  },
  {
   "cell_type": "code",
   "execution_count": null,
   "metadata": {},
   "outputs": [],
   "source": [
    "# Get Number of Channels\n",
    "# Grayscale images have 1 dimension\n",
    "# Color images have 3 (corresponding to RGB)\n",
    "nchannels = img.ndim"
   ]
  },
  {
   "cell_type": "code",
   "execution_count": null,
   "metadata": {},
   "outputs": [],
   "source": [
    "# Grayscale and Color images are stored as [x_dim,y_dim,1], and [x_dim,y_dim,3] matrices respectively.\n",
    "# A commonly used Computer Vision technique to reduce dimensions of image is to \"vectorize\" them.\n",
    "# Meaning [x_dim,y_dim,1] ==> [new_dim,1]  : For Grayscale images\n",
    "# Meaning [x_dim,y_dim,3] ==> [new_dim,3]  : For Color images\n",
    "# How do we do this? Hint (We should \"reshape\" a numpy array)\n",
    "# Why do we need this?"
   ]
  },
  {
   "cell_type": "code",
   "execution_count": null,
   "metadata": {},
   "outputs": [],
   "source": []
  },
  {
   "cell_type": "code",
   "execution_count": null,
   "metadata": {},
   "outputs": [],
   "source": [
    "# Now we have an image vector that can be processed by K-Means algorithm\n",
    "# Study the cv2 documentation for using K-Means and feed in all the required parameters as its input\n",
    "# Note that these parameters decide the quality of your segmentation.\n",
    "# Most of ML is tuning these so-called \"hyperparameters\" and finding the best ones.\n",
    "# Feel free to experiment on these parameters"
   ]
  },
  {
   "cell_type": "markdown",
   "metadata": {},
   "source": [
    "For Reference:\n",
    "[Link](https://docs.opencv.org/3.0-beta/doc/py_tutorials/py_ml/py_kmeans/py_kmeans_opencv/py_kmeans_opencv.html)"
   ]
  },
  {
   "cell_type": "code",
   "execution_count": null,
   "metadata": {},
   "outputs": [],
   "source": []
  },
  {
   "cell_type": "code",
   "execution_count": null,
   "metadata": {},
   "outputs": [],
   "source": [
    "# The output parameters are : Compactness, labels, and centers\n",
    "# What do they mean? Would you desire more compactness? Is that always good?\n",
    "# Experiment on different images and hyperparameters and check the quality of segmentation\n",
    "# and try to analyze if compactness is a good measure of clustering"
   ]
  },
  {
   "cell_type": "code",
   "execution_count": null,
   "metadata": {},
   "outputs": [],
   "source": []
  },
  {
   "cell_type": "code",
   "execution_count": null,
   "metadata": {},
   "outputs": [],
   "source": [
    "# Remember cv2.imread() which we used to read an image,in Step 1\n",
    "# Now use cv2.imshow() to show the image that was read in Step 1\n",
    "# This is the original image"
   ]
  },
  {
   "cell_type": "markdown",
   "metadata": {},
   "source": [
    "For Reference:\n",
    "[Link](https://docs.opencv.org/3.0-beta/doc/py_tutorials/py_gui/py_image_display/py_image_display.html#display-an-image)"
   ]
  },
  {
   "cell_type": "code",
   "execution_count": null,
   "metadata": {},
   "outputs": [],
   "source": []
  },
  {
   "cell_type": "code",
   "execution_count": null,
   "metadata": {},
   "outputs": [],
   "source": [
    "# It is good practice to add the following two lines of code when using imshow()\n",
    "# This makes the image display wait until ESC key is pressed\n",
    "# So you can see the image and close it by hitting the ESC key whenever you need to\n",
    "cv2.waitKey(0)\n",
    "cv2.destroyAllWindows()"
   ]
  },
  {
   "cell_type": "code",
   "execution_count": null,
   "metadata": {},
   "outputs": [],
   "source": [
    "# Look at the labels array that is the output of K-Means\n",
    "# This is an image vector denoting the cluster assigment of shape [new_dim,1]\n",
    "# How can we transform this into a grayscale image?\n",
    "# This is basically the inverse of \"vectorize\" operation we did at the start\n",
    "# [new_dim,1] ==> [x_dim,y_dim,1]"
   ]
  },
  {
   "cell_type": "code",
   "execution_count": null,
   "metadata": {},
   "outputs": [],
   "source": []
  },
  {
   "cell_type": "code",
   "execution_count": null,
   "metadata": {},
   "outputs": [],
   "source": [
    "# Also note that image intensity is always between [0->255]\n",
    "# We will have to scale the cluster assignment in label to this range\n",
    "# Meaning, if the cluster assignment was [0,1,2], we should scale it to [0, 127, 255]"
   ]
  },
  {
   "cell_type": "code",
   "execution_count": null,
   "metadata": {},
   "outputs": [],
   "source": []
  },
  {
   "cell_type": "code",
   "execution_count": null,
   "metadata": {},
   "outputs": [],
   "source": [
    "# Now display this image\n",
    "# This should be a grayscale image showing the labelling of K-Means"
   ]
  },
  {
   "cell_type": "code",
   "execution_count": null,
   "metadata": {},
   "outputs": [],
   "source": []
  },
  {
   "cell_type": "code",
   "execution_count": 4,
   "metadata": {},
   "outputs": [],
   "source": [
    "# Can we show the segmentation result as a color image instead of grayscale?\n",
    "# One way to do this, is to assign the (RGB) intensity values of cluster centroids as the\n",
    "# RGB intensity values of all pixels belonging to that cluster.\n",
    "# Is this always a good way? Think of KMeans convergence and what if the centroids had same color\n",
    "# Lets anyway stick to this approach\n",
    "# To do this, you have to do the following:\n",
    "# For example, consider we have 3 clusters with centroids c0,c1,c2\n",
    "# Now look at all the pixels of the labels image (which stores the cluster assignment -> 0,1,2)\n",
    "# All pixels with label 0, need to have intensity of c0, and so on for 1 and 2."
   ]
  },
  {
   "cell_type": "code",
   "execution_count": null,
   "metadata": {},
   "outputs": [],
   "source": []
  },
  {
   "cell_type": "code",
   "execution_count": null,
   "metadata": {},
   "outputs": [],
   "source": [
    "# Display this color image showing segmentation results"
   ]
  },
  {
   "cell_type": "code",
   "execution_count": null,
   "metadata": {},
   "outputs": [],
   "source": []
  },
  {
   "cell_type": "code",
   "execution_count": null,
   "metadata": {},
   "outputs": [],
   "source": [
    "# Now try the other images available, and also see if the same hyperparameter settings do justice to them as well\n",
    "# You can repeat by simply re-running this notebook with new image file and hyperparameters"
   ]
  }
 ],
 "metadata": {
  "kernelspec": {
   "display_name": "Python 2",
   "language": "python",
   "name": "python2"
  },
  "language_info": {
   "codemirror_mode": {
    "name": "ipython",
    "version": 2
   },
   "file_extension": ".py",
   "mimetype": "text/x-python",
   "name": "python",
   "nbconvert_exporter": "python",
   "pygments_lexer": "ipython2",
   "version": "2.7.12"
  }
 },
 "nbformat": 4,
 "nbformat_minor": 2
}
