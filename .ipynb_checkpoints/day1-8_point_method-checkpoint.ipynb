{
 "cells": [
  {
   "cell_type": "code",
   "execution_count": 2,
   "metadata": {
    "collapsed": true
   },
   "outputs": [],
   "source": [
    "import numpy as np"
   ]
  },
  {
   "cell_type": "code",
   "execution_count": 45,
   "metadata": {},
   "outputs": [
    {
     "data": {
      "text/plain": [
       "(50, 3)"
      ]
     },
     "execution_count": 45,
     "metadata": {},
     "output_type": "execute_result"
    }
   ],
   "source": [
    "# 1. Generate 50 points using uniform distribution\n",
    "# np.random.uniform()\n",
    "# In the range 0 to 1\n",
    "# The matrix can be 3 X 50.\n",
    "Q = np.random.uniform(0,1,(50, 3))\n",
    "\n",
    "Q.shape"
   ]
  },
  {
   "cell_type": "code",
   "execution_count": 84,
   "metadata": {},
   "outputs": [
    {
     "data": {
      "text/plain": [
       "((50, 3), (50, 3))"
      ]
     },
     "execution_count": 84,
     "metadata": {},
     "output_type": "execute_result"
    }
   ],
   "source": [
    "# 2. Add [ 1 4 3] to all the points - 1 to x, 4 to y and 3 to z.\n",
    "sum_q = Q + [1, 4, 3]\n",
    "\n",
    "# or\n",
    "b = np.repeat([[1,4,3]],50,axis=0)\n",
    "sum_q_ = Q + b\n",
    "\n",
    "\n",
    "sum_q.shape, sum_q_.shape"
   ]
  },
  {
   "cell_type": "code",
   "execution_count": 99,
   "metadata": {},
   "outputs": [
    {
     "data": {
      "text/plain": [
       "(50, 4)"
      ]
     },
     "execution_count": 99,
     "metadata": {},
     "output_type": "execute_result"
    }
   ],
   "source": [
    "# You need to put the homogenous component “1” at the end of each 3d vector.\n",
    "# Final matrix will be of size 4X 50 or 50 X 4.\n",
    "final_q = np.hstack((sum_q, np.ones((50, 1))))\n",
    "\n",
    "final_q.shape"
   ]
  },
  {
   "cell_type": "code",
   "execution_count": 108,
   "metadata": {},
   "outputs": [
    {
     "data": {
      "text/plain": [
       "(50, 4)"
      ]
     },
     "execution_count": 108,
     "metadata": {},
     "output_type": "execute_result"
    }
   ],
   "source": [
    "# 3. Project the points into two cameras using the two projection matrices.\n",
    "# P1 = [ [1 0 0 0], [0 1 0 0], [0 0 1 0]] -> first camera\n",
    "c1 = np.eye(4) # first camera\n",
    "c1\n",
    "\n",
    "projected_q1 = np.dot(final_q, c1)\n",
    "projected_q1.shape\n",
    "\n",
    "c2 = np.eye(4) # second camera\n",
    "c2\n",
    "\n",
    "projected_q2 = np.dot(final_q, c2)\n",
    "projected_q2.shape"
   ]
  }
 ],
 "metadata": {
  "kernelspec": {
   "display_name": "Python 3",
   "language": "python",
   "name": "python3"
  },
  "language_info": {
   "codemirror_mode": {
    "name": "ipython",
    "version": 3
   },
   "file_extension": ".py",
   "mimetype": "text/x-python",
   "name": "python",
   "nbconvert_exporter": "python",
   "pygments_lexer": "ipython3",
   "version": "3.6.3"
  }
 },
 "nbformat": 4,
 "nbformat_minor": 2
}
