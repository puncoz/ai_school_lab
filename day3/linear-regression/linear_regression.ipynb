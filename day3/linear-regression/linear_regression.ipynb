{
 "cells": [
  {
   "cell_type": "code",
   "execution_count": 1,
   "metadata": {
    "collapsed": true
   },
   "outputs": [],
   "source": [
    "import numpy as np\n",
    "import matplotlib.pyplot as plt\n",
    "\n",
    "%matplotlib inline"
   ]
  },
  {
   "cell_type": "code",
   "execution_count": 2,
   "metadata": {
    "collapsed": true
   },
   "outputs": [],
   "source": [
    "# make two vector x and y\n",
    "x = np.array([1,2,4,3,5])\n",
    "y = np.array([1,3,3,2,5])"
   ]
  },
  {
   "cell_type": "markdown",
   "metadata": {},
   "source": [
    "With simple linear regression we want to model our data as follows: \n",
    "    $$y = B0 + B1 * x $$\n",
    "We can start off by estimating the value for B1 as: \n",
    "$$Sample slope(B1) = \\frac{\\sum(X_i - \\bar{X}) (Y_i - \\bar{Y})} {\\sum(X_i - \\bar{X})^2}$$"
   ]
  },
  {
   "cell_type": "code",
   "execution_count": 3,
   "metadata": {},
   "outputs": [
    {
     "name": "stdout",
     "output_type": "stream",
     "text": [
      "b1 =  0.8\n"
     ]
    }
   ],
   "source": [
    "numerator = denominator = 0\n",
    "\n",
    "for i in range(len(x)):\n",
    "    numerator += (x[i] - np.mean(x)) * (y[i] - np.mean(y))\n",
    "    denominator += (x[i] - np.mean(x)) ** 2\n",
    "\n",
    "b1 = numerator / denominator\n",
    "print(\"b1 = \", b1)"
   ]
  },
  {
   "cell_type": "markdown",
   "metadata": {},
   "source": [
    "We can calculate B0 using B1 and some statistics from our dataset, as follows: \n",
    "\n",
    "$$B0 = \\bar{Y} - B1 * \\bar{X}$$ \n"
   ]
  },
  {
   "cell_type": "code",
   "execution_count": 4,
   "metadata": {},
   "outputs": [
    {
     "name": "stdout",
     "output_type": "stream",
     "text": [
      "b0 =  0.39999999999999947\n"
     ]
    }
   ],
   "source": [
    "b0 = np.mean(y) - b1 * np.mean(x)\n",
    "print(\"b0 = \", b0)"
   ]
  },
  {
   "cell_type": "code",
   "execution_count": 5,
   "metadata": {
    "collapsed": true
   },
   "outputs": [],
   "source": [
    "def LinearRegression(x):\n",
    "    return b0 + b1 * x"
   ]
  },
  {
   "cell_type": "code",
   "execution_count": 6,
   "metadata": {},
   "outputs": [
    {
     "data": {
      "image/png": "[encoded data removed]",
      "text/plain": [
       "<matplotlib.figure.Figure at 0x7f3160399ac8>"
      ]
     },
     "metadata": {},
     "output_type": "display_data"
    }
   ],
   "source": [
    "plt.scatter(x, y, c=\"blue\")\n",
    "plt.plot(x, LinearRegression(x), c=\"red\")\n",
    "plt.show()"
   ]
  },
  {
   "cell_type": "markdown",
   "metadata": {},
   "source": [
    "Evaluating Error\n",
    "    $$RMSE = \\sqrt\\frac{\\sum(\\hat{Y}_i - Y_i)^2} {n}$$"
   ]
  },
  {
   "cell_type": "code",
   "execution_count": 7,
   "metadata": {
    "collapsed": true
   },
   "outputs": [],
   "source": [
    "def RMSE(y, y_hat):\n",
    "    error = 0\n",
    "    for i in range(len(y)):\n",
    "        error += (y_hat[i] - y[i]) ** 2\n",
    "    return np.sqrt(error / len(y_hat))"
   ]
  },
  {
   "cell_type": "code",
   "execution_count": 8,
   "metadata": {},
   "outputs": [
    {
     "data": {
      "text/plain": [
       "0.692820323027551"
      ]
     },
     "execution_count": 8,
     "metadata": {},
     "output_type": "execute_result"
    }
   ],
   "source": [
    "y_predicted = LinearRegression(x)\n",
    "error = RMSE(y, y_predicted)\n",
    "error"
   ]
  }
 ],
 "metadata": {
  "kernelspec": {
   "display_name": "Python 3",
   "language": "python",
   "name": "python3"
  },
  "language_info": {
   "codemirror_mode": {
    "name": "ipython",
    "version": 3
   },
   "file_extension": ".py",
   "mimetype": "text/x-python",
   "name": "python",
   "nbconvert_exporter": "python",
   "pygments_lexer": "ipython3",
   "version": "3.6.6"
  }
 },
 "nbformat": 4,
 "nbformat_minor": 2
}
