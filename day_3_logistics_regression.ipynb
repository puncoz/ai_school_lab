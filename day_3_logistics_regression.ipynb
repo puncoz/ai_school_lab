{
 "cells": [
  {
   "cell_type": "code",
   "execution_count": 3,
   "metadata": {
    "collapsed": true
   },
   "outputs": [],
   "source": [
    "from sklearn.linear_model import LogisticRegression\n",
    "from sklearn.datasets import load_breast_cancer\n",
    "from sklearn.model_selection import train_test_split\n",
    "\n",
    "import pandas as pd"
   ]
  },
  {
   "cell_type": "code",
   "execution_count": 7,
   "metadata": {},
   "outputs": [
    {
     "data": {
      "text/plain": [
       "array([[  1.98900000e+01,   2.02600000e+01,   1.30500000e+02, ...,\n",
       "          1.61300000e-01,   2.54900000e-01,   9.13600000e-02],\n",
       "       [  1.28900000e+01,   1.31200000e+01,   8.18900000e+01, ...,\n",
       "          5.36600000e-02,   2.30900000e-01,   6.91500000e-02],\n",
       "       [  1.71400000e+01,   1.64000000e+01,   1.16000000e+02, ...,\n",
       "          2.55000000e-01,   4.06600000e-01,   1.05900000e-01],\n",
       "       ..., \n",
       "       [  1.54600000e+01,   2.39500000e+01,   1.03800000e+02, ...,\n",
       "          2.16300000e-01,   3.01300000e-01,   1.06700000e-01],\n",
       "       [  1.70500000e+01,   1.90800000e+01,   1.13400000e+02, ...,\n",
       "          2.54300000e-01,   3.10900000e-01,   9.06100000e-02],\n",
       "       [  9.77700000e+00,   1.69900000e+01,   6.25000000e+01, ...,\n",
       "          5.33400000e-02,   2.53300000e-01,   8.46800000e-02]])"
      ]
     },
     "execution_count": 7,
     "metadata": {},
     "output_type": "execute_result"
    }
   ],
   "source": [
    "cancer = load_breast_cancer()\n",
    "x_train, x_text, y_train, y_test = train_test_split(cancer.data, cancer.target, stratify=cancer.target, random_state=42)\n",
    "\n",
    "x_train."
   ]
  }
 ],
 "metadata": {
  "kernelspec": {
   "display_name": "Python 3",
   "language": "python",
   "name": "python3"
  },
  "language_info": {
   "codemirror_mode": {
    "name": "ipython",
    "version": 3
   },
   "file_extension": ".py",
   "mimetype": "text/x-python",
   "name": "python",
   "nbconvert_exporter": "python",
   "pygments_lexer": "ipython3",
   "version": "3.6.3"
  }
 },
 "nbformat": 4,
 "nbformat_minor": 2
}
